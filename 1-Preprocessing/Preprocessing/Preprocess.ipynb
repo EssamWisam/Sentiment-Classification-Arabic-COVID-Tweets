{
 "cells": [
  {
   "cell_type": "code",
   "execution_count": 2,
   "metadata": {},
   "outputs": [
    {
     "name": "stdout",
     "output_type": "stream",
     "text": [
      "[NbConvertApp] Converting notebook Preprocess.ipynb to script\n",
      "[NbConvertApp] Writing 4715 bytes to Preprocess.py\n"
     ]
    }
   ],
   "source": [
    "import re\n",
    "import string\n",
    "import numpy as np\n",
    "import pandas as pd\n",
    "import matplotlib.pyplot as plt\n",
    "from IPython.display import display, HTML\n",
    "from collections import Counter\n",
    "from nltk.corpus import stopwords\n",
    "from nltk.tokenize import TreebankWordTokenizer\n",
    "from nltk.stem import ISRIStemmer\n",
    "from snowballstemmer import stemmer\n",
    "!jupyter nbconvert --to script Preprocess.ipynb"
   ]
  },
  {
   "attachments": {},
   "cell_type": "markdown",
   "metadata": {},
   "source": [
    "#### Hand-made Stemmer"
   ]
  },
  {
   "cell_type": "code",
   "execution_count": 3,
   "metadata": {},
   "outputs": [],
   "source": [
    "#using hand made stemmer\n",
    "def process_tweet_1(tweet):\n",
    "    # remove stock market tickers like $GE\n",
    "    tweet = re.sub(r'\\$\\w*', '', tweet)\n",
    "    # remove old style etweet text \"RT\"\n",
    "    tweet = re.sub(r'^RT[\\s]+', '', tweet)\n",
    "    # remove hyperlinks\n",
    "    tweet = re.sub(r'https?:\\/\\/(www\\.)?[-a-zA-Z0-9@:%._\\+~#=]{1,256}\\.[a-zA-Z0-9()]{1,6}\\b([-a-zA-Z0-9()@:%_\\+.~#?&//=]*)', '', tweet)\n",
    "    # # removal\n",
    "    tweet = re.sub(r'#', '', tweet)\n",
    "    # Remove punctuation\n",
    "    tweet = re.sub(r'[\\u060C\\u061B\\u061F]', '', tweet)\n",
    "    # Remove diacritic\n",
    "    tweet = re.sub(r'[\\u064B-\\u0652]', '', tweet)\n",
    "    # yaaa with yaaa with points\n",
    "    tweet = re.sub(r'\\u0649', '\\u064A', tweet)\n",
    "    # Remove tatweel\n",
    "    tweet = re.sub(r'\\u0640', '', tweet)\n",
    "    # Remove alef with madda\n",
    "    tweet = re.sub(r'\\u0622', '\\u0627', tweet)\n",
    "    # Remove alef with hamza above\n",
    "    tweet = re.sub(r'\\u0623', '\\u0627', tweet)\n",
    "    # Remove alef with hamza below\n",
    "    tweet = re.sub(r'\\u0625', '\\u0627', tweet)\n",
    "    # Remove alef maksura\n",
    "    tweet = re.sub(r'\\u0649', '\\u064a', tweet)\n",
    "    # taa marbota to heh\n",
    "    tweet = re.sub(r'\\u0629', '\\u0647', tweet)\n",
    "    # Remove non-arabic characters\n",
    "    tweet = re.sub(r'[^\\u0621-\\u064A]', ' ', tweet)\n",
    "    # Remove extra spaces\n",
    "    tweet = re.sub(r'\\s+', ' ', tweet)\n",
    "\n",
    "    tokenizer = TreebankWordTokenizer()\n",
    "    tokens = tokenizer.tokenize(tweet)\n",
    "    filtered_tokens = [token for token in tokens if token not in stopwords.words('arabic')]\n",
    "    return filtered_tokens"
   ]
  },
  {
   "attachments": {},
   "cell_type": "markdown",
   "metadata": {},
   "source": [
    "#### NLTK Stemmer"
   ]
  },
  {
   "cell_type": "code",
   "execution_count": 4,
   "metadata": {},
   "outputs": [],
   "source": [
    "#using the nltk stemmer\n",
    "def process_tweet_2(tweet):\n",
    "    tweet = re.sub(r'\\$\\w*', '', tweet)\n",
    "    tweet = re.sub(r'^RT[\\s]+', '', tweet)\n",
    "    tweet = re.sub(r'https?:\\/\\/(www\\.)?[-a-zA-Z0-9@:%._\\+~#=]{1,256}\\.[a-zA-Z0-9()]{1,6}\\b([-a-zA-Z0-9()@:%_\\+.~#?&//=]*)', '', tweet)\n",
    "    tweet = re.sub(r'#', '', tweet)\n",
    "    tokenizer = TreebankWordTokenizer()\n",
    "    tokens = tokenizer.tokenize(tweet)\n",
    "    filtered_tokens = [token for token in tokens if token not in stopwords.words('arabic')]\n",
    "\n",
    "    stemmer = ISRIStemmer()\n",
    "    filtered_tokens = [stemmer.stem(token) for token in filtered_tokens]\n",
    "    filtered_tokens = [re.sub(r'[^\\u0621-\\u064A]', '', token) for token in filtered_tokens]\n",
    "    filtered_tokens = [token for token in filtered_tokens if token != '']\n",
    "\n",
    "    return filtered_tokens\n"
   ]
  },
  {
   "attachments": {},
   "cell_type": "markdown",
   "metadata": {},
   "source": [
    "#### 3rd Party Stemmer"
   ]
  },
  {
   "cell_type": "code",
   "execution_count": null,
   "metadata": {},
   "outputs": [],
   "source": [
    "def process_tweet_3(tweet):\n",
    "    tweet = re.sub(r'\\$\\w*', '', tweet)\n",
    "    tweet = re.sub(r'^RT[\\s]+', '', tweet)\n",
    "    tweet = re.sub(r'https?:\\/\\/(www\\.)?[-a-zA-Z0-9@:%._\\+~#=]{1,256}\\.[a-zA-Z0-9()]{1,6}\\b([-a-zA-Z0-9()@:%_\\+.~#?&//=]*)', '', tweet)\n",
    "    tweet = re.sub(r'#', '', tweet)\n",
    "    tweet = re.sub(r'(.)\\1+', r'\\1', tweet)\n",
    "    tokenizer = TreebankWordTokenizer()\n",
    "    tokens = tokenizer.tokenize(tweet)\n",
    "    filtered_tokens = [token for token in tokens if token not in stopwords.words('arabic')]\n",
    "    ar_stemmer = stemmer(\"arabic\")\n",
    "    filtered_tokens = [ar_stemmer.stemWord(token) for token in filtered_tokens]\n",
    "    filtered_tokens = [re.sub(r'[^\\u0621-\\u064A]', '', token) for token in filtered_tokens]\n",
    "    filtered_tokens = [token for token in filtered_tokens if token != '']\n",
    "    \n",
    "    return filtered_tokens\n",
    "\n",
    "\n"
   ]
  },
  {
   "attachments": {},
   "cell_type": "markdown",
   "metadata": {},
   "source": [
    "#### Testing & Running the Preprocessing on the Dataset"
   ]
  },
  {
   "cell_type": "code",
   "execution_count": 5,
   "metadata": {},
   "outputs": [
    {
     "data": {
      "text/plain": [
       "'حاخام إسرائيلي: لقاح كورونا يحوّل الأشخاص إلى مثليين!<LF>https://t.co/6xsO3CalJF'"
      ]
     },
     "metadata": {},
     "output_type": "display_data"
    },
    {
     "data": {
      "text/plain": [
       "'حاخام اسرائيلي لقاح كورونا يحول الاشخاص الي مثليين'"
      ]
     },
     "metadata": {},
     "output_type": "display_data"
    },
    {
     "data": {
      "text/plain": [
       "'حاخام اسرائيلي لقح كورو يحل شخص ثلي'"
      ]
     },
     "metadata": {},
     "output_type": "display_data"
    }
   ],
   "source": [
    "from IPython.utils import io\n",
    "with io.capture_output() as captured:  \n",
    "   %run ../../1-Preprocessing/DataInsight/DataInsight.ipynb import x, y1, y2, X, Y1, Y2\n",
    "\n",
    "length = len(x)\n",
    "index = np.random.randint(0, length)\n",
    "test = x[index]\n",
    "display(test)\n",
    "display(' '.join(process_tweet_1(test)))\n",
    "display(' '.join(process_tweet_2(test)))\n",
    "display(' '.join(process_tweet_3(test)))"
   ]
  },
  {
   "cell_type": "code",
   "execution_count": 6,
   "metadata": {},
   "outputs": [],
   "source": [
    "selector = 3\n",
    "Preprocessing = {\"approach\": \"Hand-made\" if selector==1 else \"NLTK\" if selector==2 else \"Snowball\", \"max_len\": 0}\n",
    "preprocess_tweet = lambda tweet: process_tweet_1(tweet) if selector==1 else process_tweet_2(tweet) if selector==2 else process_tweet_3(tweet)\n",
    "x = [preprocess_tweet(tweet) for tweet in x]\n",
    "X = [preprocess_tweet(tweet) for tweet in X]\n",
    "y1, y2 = y1, y2\n",
    "Y1, Y2 = Y1, Y2"
   ]
  },
  {
   "attachments": {},
   "cell_type": "markdown",
   "metadata": {},
   "source": [
    "#### Tweet Length Histogram"
   ]
  },
  {
   "cell_type": "code",
   "execution_count": 7,
   "metadata": {},
   "outputs": [
    {
     "name": "stdout",
     "output_type": "stream",
     "text": [
      "The average length of the tweets is:  19.44547796222095\n"
     ]
    },
    {
     "data": {
      "image/png": "[encoded data removed]",
      "text/plain": [
       "<Figure size 432x288 with 1 Axes>"
      ]
     },
     "metadata": {
      "needs_background": "light"
     },
     "output_type": "display_data"
    }
   ],
   "source": [
    "# visualize a histogram of the length of the tweets\n",
    "hist = [len(tweet) for tweet in x]\n",
    "# find the   average length of the tweets\n",
    "avg = np.mean(hist)\n",
    "print('The average length of the tweets is: ', avg)\n",
    "plt.hist(hist, bins=20)\n",
    "plt.title('Histogram of the length of the tweets')\n",
    "plt.xlabel('Length of the tweets')\n",
    "plt.ylabel('Number of the tweets')\n",
    "plt.show()"
   ]
  },
  {
   "attachments": {},
   "cell_type": "markdown",
   "metadata": {},
   "source": [
    "#### Clipping and Padding Tweets "
   ]
  },
  {
   "cell_type": "code",
   "execution_count": 8,
   "metadata": {},
   "outputs": [],
   "source": [
    "# clip the tweets to 50 words and pad the rest with 'pad'\n",
    "max_len = 50\n",
    "Preprocessing[\"max_len\"] = max_len\n",
    "x = [tweet[:max_len] if len(tweet) > max_len else tweet + ['pad'] * (max_len - len(tweet)) for tweet in x]\n",
    "X = [tweet[:max_len] if len(tweet) > max_len else tweet + ['pad'] * (max_len - len(tweet)) for tweet in X]"
   ]
  },
  {
   "attachments": {},
   "cell_type": "markdown",
   "metadata": {},
   "source": [
    "#### Building the Vocabulary"
   ]
  },
  {
   "cell_type": "code",
   "execution_count": 9,
   "metadata": {},
   "outputs": [],
   "source": [
    "# build the vocabulary from x and X\n",
    "words = []\n",
    "for tweet in x + X:\n",
    "    words.extend(tweet)"
   ]
  },
  {
   "cell_type": "code",
   "execution_count": 10,
   "metadata": {},
   "outputs": [
    {
     "data": {
      "text/plain": [
       "[('pad', 95665),\n",
       " ('لقاح', 7599),\n",
       " ('كورونا', 5151),\n",
       " ('علي', 2319),\n",
       " ('الجرعه', 1229),\n",
       " ('الصحه', 1158),\n",
       " ('اللقاح', 1155),\n",
       " ('ان', 1108),\n",
       " ('كوفيد', 975),\n",
       " ('الاولي', 962),\n",
       " ('يتلقي', 871),\n",
       " ('الي', 867),\n",
       " ('الله', 803),\n",
       " ('تطعيم', 778),\n",
       " ('فايزر', 756),\n",
       " ('فيروس', 708),\n",
       " ('جرعه', 705),\n",
       " ('ضد', 664),\n",
       " ('عاجل', 512),\n",
       " ('اليوم', 488)]"
      ]
     },
     "metadata": {},
     "output_type": "display_data"
    },
    {
     "name": "stdout",
     "output_type": "stream",
     "text": [
      "The size of the vocabulary is:  25593\n"
     ]
    }
   ],
   "source": [
    "# vocabulary dictionary\n",
    "vocabulary = {word : index for index, word in enumerate(set(words))}\n",
    "vocab_statistics = Counter(words)\n",
    "display(vocab_statistics.most_common(20))\n",
    "print('The size of the vocabulary is: ', len(vocabulary))"
   ]
  },
  {
   "attachments": {},
   "cell_type": "markdown",
   "metadata": {},
   "source": [
    "#### Converting Y to One-hot Vectors then to Discrete 0-Indexed Integers"
   ]
  },
  {
   "cell_type": "code",
   "execution_count": 12,
   "metadata": {},
   "outputs": [],
   "source": [
    "# Convert y1 and y2 to one hot\n",
    "y1 = np.array([np.eye(3)[i] for i in y1])\n",
    "y2 = np.array([np.eye(10)[i] for i in y2])\n",
    "\n",
    "Y1 = np.array([np.eye(3)[i] for i in Y1])\n",
    "Y2 = np.array([np.eye(10)[i] for i in Y2])\n",
    "\n",
    "# Most modells want a discrete 0-indexed integer for the class \n",
    "y1, y2 = np.argmax(y1, axis=1), np.argmax(y2, axis=1)\n",
    "Y1, Y2 = np.argmax(Y1, axis=1), np.argmax(Y2, axis=1)\n",
    "\n",
    "y1, y2 = np.array(y1), np.array(y2)\n",
    "Y1, Y2 = np.array(Y1), np.array(Y2)\n",
    "voc_size = len(vocabulary) \n"
   ]
  }
 ],
 "metadata": {
  "kernelspec": {
   "display_name": "base",
   "language": "python",
   "name": "python3"
  },
  "language_info": {
   "codemirror_mode": {
    "name": "ipython",
    "version": 3
   },
   "file_extension": ".py",
   "mimetype": "text/x-python",
   "name": "python",
   "nbconvert_exporter": "python",
   "pygments_lexer": "ipython3",
   "version": "3.8.8 (default, Apr 13 2021, 12:59:45) \n[Clang 10.0.0 ]"
  },
  "orig_nbformat": 4,
  "vscode": {
   "interpreter": {
    "hash": "40d3a090f54c6569ab1632332b64b2c03c39dcf918b08424e98f38b5ae0af88f"
   }
  }
 },
 "nbformat": 4,
 "nbformat_minor": 2
}
