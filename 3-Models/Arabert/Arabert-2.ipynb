{
 "cells": [
  {
   "cell_type": "code",
   "execution_count": null,
   "metadata": {},
   "outputs": [],
   "source": [
    "from IPython.utils import io\n",
    "with io.capture_output() as captured:  \n",
    "   %run ../../2-FeatureExtraction/ContextualEmbeddings/ContextualEmbeddings.ipynb import train_contextual_embeddings, valid_contextual_embeddings, train_labels_2, valid_labels_2, train_labels_1, valid_labels_1"
   ]
  },
  {
   "cell_type": "code",
   "execution_count": null,
   "metadata": {},
   "outputs": [],
   "source": [
    "from torch import nn\n",
    "from torch.optim import Adam\n",
    "import torch\n",
    "from torch.utils.data import TensorDataset, DataLoader\n",
    "from tqdm import tqdm\n",
    "import re\n",
    "from sklearn.metrics import f1_score\n",
    "from sklearn.metrics import accuracy_score\n",
    "from sklearn.metrics import classification_report\n",
    "import numpy as np"
   ]
  },
  {
   "cell_type": "code",
   "execution_count": null,
   "metadata": {},
   "outputs": [],
   "source": [
    "device = torch.device(\"cuda\" if torch.cuda.is_available() else \"cpu\"); print(device)"
   ]
  },
  {
   "cell_type": "code",
   "execution_count": null,
   "metadata": {},
   "outputs": [],
   "source": [
    "train_data = TensorDataset(torch.from_numpy(train_contextual_embeddings), torch.from_numpy(train_labels_2))\n",
    "valid_data = TensorDataset(torch.from_numpy(valid_contextual_embeddings), torch.from_numpy(valid_labels_2))\n",
    "\n",
    "batch_size = 128\n",
    "\n",
    "train_loader = DataLoader(train_data, shuffle=True, batch_size=batch_size)\n",
    "valid_loader = DataLoader(valid_data, shuffle=True, batch_size=1024)"
   ]
  },
  {
   "cell_type": "code",
   "execution_count": null,
   "metadata": {},
   "outputs": [],
   "source": [
    "class ContextualClassifier(nn.Module):\n",
    "\n",
    "  def __init__(self, layer_1=768, layer_2=512, output=10):\n",
    "    super(ContextualClassifier, self).__init__()\n",
    "    self.linear_1 = nn.Linear(layer_1, layer_2)\n",
    "    self.linear_2 = nn.Linear(layer_2, output)\n",
    "    self.relu = nn.ReLU()\n",
    "\n",
    "  def forward(self, contextualized_embeddings):\n",
    "    linear_1_output = self.linear_1(contextualized_embeddings)\n",
    "    linear_2_output = self.linear_2(self.relu(linear_1_output))\n",
    "    output_layer = self.relu(linear_2_output)\n",
    "    return output_layer\n"
   ]
  },
  {
   "cell_type": "code",
   "execution_count": null,
   "metadata": {},
   "outputs": [],
   "source": [
    "model = ContextualClassifier().to(device)"
   ]
  },
  {
   "cell_type": "code",
   "execution_count": null,
   "metadata": {},
   "outputs": [],
   "source": [
    "EPOCHS = 300\n",
    "LR = 3e-6\n",
    "N1 = 768\n",
    "N2 = 512\n",
    "\n",
    "\n",
    "criterion = nn.CrossEntropyLoss()\n",
    "optimizer = Adam(model.parameters(), lr=LR)\n",
    "criterion.to(device)\n",
    "\n",
    "for epoch_num in tqdm(range(EPOCHS)):\n",
    "  for train_input, train_label in train_loader:\n",
    "    model.zero_grad()\n",
    "\n",
    "    train_input = train_input.to(device)\n",
    "    train_label = train_label.to(device)\n",
    "    output = model(train_input)\n",
    "    output = output.squeeze(1)\n",
    "    batch_loss = criterion(output, train_label)\n",
    "\n",
    "    batch_loss.backward()\n",
    "    optimizer.step()"
   ]
  },
  {
   "cell_type": "code",
   "execution_count": null,
   "metadata": {},
   "outputs": [],
   "source": [
    "output_labels = []\n",
    "\n",
    "with torch.no_grad():\n",
    "  for valid_input, valid_label in tqdm(valid_loader):\n",
    "    valid_input = valid_input.to(device)\n",
    "    valid_label = valid_label.to(device)\n",
    "    output = model(valid_input).cpu()\n",
    "    output = output.squeeze(1)\n",
    "    output_labels.extend(output.argmax(dim=1).tolist())\n",
    "\n",
    "print()\n",
    "F1 = f1_score(valid_labels, output_labels, average='macro')\n",
    "Report = classification_report(valid_labels, output_labels, zero_division=0)\n",
    "print(Report)"
   ]
  }
 ],
 "metadata": {
  "kernelspec": {
   "display_name": "Python 3",
   "language": "python",
   "name": "python3"
  },
  "language_info": {
   "codemirror_mode": {
    "name": "ipython",
    "version": 3
   },
   "file_extension": ".py",
   "mimetype": "text/x-python",
   "name": "python",
   "nbconvert_exporter": "python",
   "pygments_lexer": "ipython3",
   "version": "3.10.4"
  },
  "orig_nbformat": 4,
  "vscode": {
   "interpreter": {
    "hash": "3ad933181bd8a04b432d3370b9dc3b0662ad032c4dfaa4e4f1596c548f763858"
   }
  }
 },
 "nbformat": 4,
 "nbformat_minor": 2
}
