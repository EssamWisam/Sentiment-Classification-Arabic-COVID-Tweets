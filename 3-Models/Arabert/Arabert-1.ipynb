{
 "cells": [
  {
   "cell_type": "code",
   "execution_count": 30,
   "metadata": {},
   "outputs": [],
   "source": [
    "from IPython.utils import io\n",
    "import csv\n",
    "with io.capture_output() as captured:  \n",
    "   %run ../../2-FeatureExtraction/ContextualEmbeddings/ContextualEmbeddings.ipynb import x, X, y1, y2, Y1, Y2, Features, Preprocesss"
   ]
  },
  {
   "cell_type": "code",
   "execution_count": 18,
   "metadata": {},
   "outputs": [],
   "source": [
    "from torch import nn\n",
    "from torch.optim import Adam\n",
    "import torch\n",
    "from torch.utils.data import TensorDataset, DataLoader\n",
    "from tqdm import tqdm\n",
    "import re\n",
    "from sklearn.metrics import f1_score\n",
    "from sklearn.metrics import accuracy_score\n",
    "from sklearn.metrics import classification_report\n",
    "import numpy as np"
   ]
  },
  {
   "cell_type": "code",
   "execution_count": 19,
   "metadata": {},
   "outputs": [
    {
     "name": "stdout",
     "output_type": "stream",
     "text": [
      "cpu\n"
     ]
    }
   ],
   "source": [
    "device = torch.device(\"cuda\" if torch.cuda.is_available() else \"cpu\"); print(device)"
   ]
  },
  {
   "attachments": {},
   "cell_type": "markdown",
   "metadata": {},
   "source": [
    "#### Loading the Data"
   ]
  },
  {
   "cell_type": "code",
   "execution_count": 20,
   "metadata": {},
   "outputs": [],
   "source": [
    "train_data = TensorDataset(torch.from_numpy(x), torch.from_numpy(y1))\n",
    "valid_data = TensorDataset(torch.from_numpy(X), torch.from_numpy(Y1))\n",
    "\n",
    "batch_size = 128\n",
    "\n",
    "train_loader = DataLoader(train_data, shuffle=True, batch_size=batch_size)\n",
    "valid_loader = DataLoader(valid_data, shuffle=True, batch_size=1024)"
   ]
  },
  {
   "attachments": {},
   "cell_type": "markdown",
   "metadata": {},
   "source": [
    "#### Implementing the Model Head"
   ]
  },
  {
   "cell_type": "code",
   "execution_count": 21,
   "metadata": {},
   "outputs": [],
   "source": [
    "class ContextualClassifier(nn.Module):\n",
    "\n",
    "  def __init__(self, layer_1=768, layer_2=512, output=3):\n",
    "    super(ContextualClassifier, self).__init__()\n",
    "    self.linear_1 = nn.Linear(layer_1, layer_2)\n",
    "    self.linear_2 = nn.Linear(layer_2, output)\n",
    "    self.relu = nn.ReLU()\n",
    "\n",
    "  def forward(self, contextualized_embeddings):\n",
    "    linear_1_output = self.linear_1(contextualized_embeddings)\n",
    "    linear_2_output = self.linear_2(self.relu(linear_1_output))\n",
    "    output_layer = self.relu(linear_2_output)\n",
    "    return output_layer\n"
   ]
  },
  {
   "attachments": {},
   "cell_type": "markdown",
   "metadata": {},
   "source": [
    "#### Initializing the Model"
   ]
  },
  {
   "cell_type": "code",
   "execution_count": 22,
   "metadata": {},
   "outputs": [],
   "source": [
    "EPOCHS = 300\n",
    "LR = 3e-6\n",
    "N1 = 768\n",
    "N2 = 512\n",
    "WeightedLoss = False\n",
    "w = torch.tensor(np.load(\"../../Dataset/w1.npy\").astype(np.float32)).to(device)\n",
    "w = torch.tensor([0.3, 0.25, 0.7])\n",
    "\n",
    "ModelInfo = {\n",
    "   \"Model\": \"Arabert-1\",\n",
    "   \"batch_size\": batch_size,\n",
    "   \"Hidden Dimension 1\":N1,\n",
    "   \"Hidden Dimension 2\": N2,\n",
    "   \"Learning Rate\": LR,\n",
    "   \"Number of Epochs\": EPOCHS,\n",
    "   \"Weighted Loss\": WeightedLoss,\n",
    "   \"Weights\": w\n",
    "}\n",
    "\n",
    "model = ContextualClassifier(layer_1=N1, layer_2=N2).to(device)"
   ]
  },
  {
   "cell_type": "code",
   "execution_count": 23,
   "metadata": {},
   "outputs": [],
   "source": [
    "if WeightedLoss:\n",
    "    criterion = nn.CrossEntropyLoss(weight=w).to(device)\n",
    "else:\n",
    "    criterion = nn.CrossEntropyLoss().to(device)\n",
    "    \n",
    "optimizer = Adam(model.parameters(), lr=LR)"
   ]
  },
  {
   "attachments": {},
   "cell_type": "markdown",
   "metadata": {},
   "source": [
    "#### Training the Model"
   ]
  },
  {
   "cell_type": "code",
   "execution_count": 24,
   "metadata": {},
   "outputs": [
    {
     "name": "stderr",
     "output_type": "stream",
     "text": [
      "100%|██████████| 300/300 [04:21<00:00,  1.15it/s]\n"
     ]
    }
   ],
   "source": [
    "for epoch_num in tqdm(range(EPOCHS)):\n",
    "  for train_input, train_label in train_loader:\n",
    "    model.zero_grad()\n",
    "\n",
    "    train_input = train_input.to(device)\n",
    "    train_label = train_label.to(device)\n",
    "    output = model(train_input)\n",
    "    output = output.squeeze(1)\n",
    "    batch_loss = criterion(output, train_label)\n",
    "\n",
    "    batch_loss.backward()\n",
    "    optimizer.step()"
   ]
  },
  {
   "attachments": {},
   "cell_type": "markdown",
   "metadata": {},
   "source": [
    "#### Validating the Model"
   ]
  },
  {
   "cell_type": "code",
   "execution_count": 31,
   "metadata": {},
   "outputs": [
    {
     "name": "stderr",
     "output_type": "stream",
     "text": [
      "100%|██████████| 1/1 [00:00<00:00, 15.31it/s]"
     ]
    },
    {
     "name": "stdout",
     "output_type": "stream",
     "text": [
      "              precision    recall  f1-score   support\n",
      "\n",
      "           0       0.13      0.56      0.21       126\n",
      "           1       0.80      0.45      0.58       804\n",
      "           2       0.08      0.01      0.02        70\n",
      "\n",
      "    accuracy                           0.43      1000\n",
      "   macro avg       0.34      0.34      0.27      1000\n",
      "weighted avg       0.67      0.43      0.49      1000\n",
      "\n"
     ]
    },
    {
     "name": "stderr",
     "output_type": "stream",
     "text": [
      "\n"
     ]
    }
   ],
   "source": [
    "output_labels = []\n",
    "\n",
    "with torch.no_grad():\n",
    "  for valid_input, valid_label in tqdm(valid_loader):\n",
    "    valid_input = valid_input.to(device)\n",
    "    valid_label = valid_label.to(device)\n",
    "    output = model(valid_input).cpu()\n",
    "    output = output.squeeze(1)\n",
    "    output_labels.extend(output.argmax(dim=1).tolist())\n",
    "\n",
    "F1 = f1_score(Y1, output_labels, average='macro')\n",
    "Report = classification_report(Y1, output_labels, zero_division=0, output_dict=True)\n",
    "print(classification_report(Y1, output_labels, zero_division=0))"
   ]
  },
  {
   "attachments": {},
   "cell_type": "markdown",
   "metadata": {},
   "source": [
    "#### Saving the Model"
   ]
  },
  {
   "cell_type": "code",
   "execution_count": 32,
   "metadata": {},
   "outputs": [],
   "source": [
    "with open('runs.csv', 'a') as f:  \n",
    "      run_info = {**Preprocessing, **Features, **ModelInfo, \"acc\":Report[\"accuracy\"],\"BF1\": Report[\"macro avg\"][\"f1-score\"], \"WF1\": Report[\"weighted avg\"][\"f1-score\"] }\n",
    "      w = csv.DictWriter(f, run_info.keys())\n",
    "      w.writeheader()\n",
    "      w.writerow(run_info)"
   ]
  }
 ],
 "metadata": {
  "kernelspec": {
   "display_name": "base",
   "language": "python",
   "name": "python3"
  },
  "language_info": {
   "codemirror_mode": {
    "name": "ipython",
    "version": 3
   },
   "file_extension": ".py",
   "mimetype": "text/x-python",
   "name": "python",
   "nbconvert_exporter": "python",
   "pygments_lexer": "ipython3",
   "version": "3.8.8"
  },
  "orig_nbformat": 4,
  "vscode": {
   "interpreter": {
    "hash": "40d3a090f54c6569ab1632332b64b2c03c39dcf918b08424e98f38b5ae0af88f"
   }
  }
 },
 "nbformat": 4,
 "nbformat_minor": 2
}
