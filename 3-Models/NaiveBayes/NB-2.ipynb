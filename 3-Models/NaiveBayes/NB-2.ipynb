{
 "cells": [
  {
   "cell_type": "code",
   "execution_count": 12,
   "metadata": {},
   "outputs": [],
   "source": [
    "from IPython.utils import io\n",
    "import csv\n",
    "import numpy as np\n",
    "from sklearn.model_selection import cross_val_predict, cross_val_score\n",
    "with io.capture_output() as captured:  \n",
    "   #%run ../../2-FeatureExtraction/BowTF/BowTF.ipynb import x, y1, y2, X, Y1, Y2, vocabulary, Preprocessing, Features\n",
    "   %run ../../2-FeatureExtraction/BagOfWords/BagOfWords.ipynb import x, y1, y2, X, Y1, Y2, vocabulary, Preprocessing, Features\n",
    "   #%run ../../2-FeatureExtraction/TF-IDF/TF-IDF.ipynb import x, y1, y2, X, Y1, Y2, vocabulary, Preprocessing, Features"
   ]
  },
  {
   "cell_type": "code",
   "execution_count": 13,
   "metadata": {},
   "outputs": [],
   "source": [
    "from sklearn.naive_bayes import MultinomialNB\n",
    "from sklearn.metrics import f1_score\n",
    "from sklearn.metrics import f1_score, classification_report\n",
    "from imblearn.over_sampling import SMOTE"
   ]
  },
  {
   "cell_type": "markdown",
   "metadata": {},
   "source": [
    "#### Naive Bayes Training"
   ]
  },
  {
   "cell_type": "code",
   "execution_count": 14,
   "metadata": {},
   "outputs": [],
   "source": [
    "alpha = 0.05\n",
    "fit_prior = False\n",
    "Oversampling = True\n",
    "CrossValidation = False\n",
    "model = MultinomialNB(alpha=alpha, fit_prior=fit_prior)\n",
    "ModelInfo = {\n",
    "   \"Model\": \"NB-2\",\n",
    "   \"Alpha\": alpha,\n",
    "   \"Fit Prior\": fit_prior,\n",
    "   \"Oversampling\": Oversampling,\n",
    "   \"CrossValidation\": CrossValidation,\n",
    "}\n",
    "\n",
    "if Oversampling:\n",
    "   sm = SMOTE(random_state=42, k_neighbors=8)\n",
    "   x, y2 = sm.fit_resample(x, y2)"
   ]
  },
  {
   "cell_type": "markdown",
   "metadata": {},
   "source": [
    "#### Naive Bayes Prediction"
   ]
  },
  {
   "cell_type": "code",
   "execution_count": 15,
   "metadata": {},
   "outputs": [
    {
     "name": "stdout",
     "output_type": "stream",
     "text": [
      "              precision    recall  f1-score   support\n",
      "\n",
      "           0       0.28      0.50      0.36        10\n",
      "           1       0.85      0.80      0.83       145\n",
      "           2       0.73      0.61      0.66       545\n",
      "           3       0.13      0.12      0.12        17\n",
      "           4       0.47      0.62      0.53       128\n",
      "           5       0.23      0.39      0.29        82\n",
      "           6       0.23      0.25      0.24        20\n",
      "           7       1.00      0.50      0.67         2\n",
      "           8       0.00      0.00      0.00        15\n",
      "           9       0.41      0.36      0.38        36\n",
      "\n",
      "    accuracy                           0.58      1000\n",
      "   macro avg       0.43      0.41      0.41      1000\n",
      "weighted avg       0.62      0.58      0.60      1000\n",
      "\n",
      "F1 score:  0.4072581296582761\n"
     ]
    }
   ],
   "source": [
    "if CrossValidation:\n",
    "   X_c = np.concatenate((x.A, X.A), axis=0)\n",
    "   Y_c2 = np.concatenate((y2, Y2), axis=0)\n",
    "   outputs = cross_val_predict(model, X_c, Y_c2, cv=5)\n",
    "   Report = classification_report(Y_c2, outputs, output_dict=True)\n",
    "   print(classification_report(Y_c2, outputs))\n",
    "   F1 = f1_score(Y_c2, outputs, average='macro')\n",
    "   print('F1 score: ', F1)\n",
    "\n",
    "else:\n",
    "   model = model.fit(x, y2)\n",
    "   outputs = model.predict(X)\n",
    "   Report = classification_report(Y2, outputs, output_dict=True)\n",
    "   print(classification_report(Y2, outputs))\n",
    "   F1 = f1_score(Y2, outputs, average='macro')\n",
    "   print('F1 score: ', F1)"
   ]
  },
  {
   "attachments": {},
   "cell_type": "markdown",
   "metadata": {},
   "source": [
    "#### Log Model Info"
   ]
  },
  {
   "cell_type": "code",
   "execution_count": 23,
   "metadata": {},
   "outputs": [],
   "source": [
    "real_outputs = model.predict(X_test)\n",
    "Dicct =  {'advice': 0, 'celebrity':1, 'info_news':2, 'others':3, 'personal':4, 'plan':5, 'requests':6, 'restrictions':7, 'rumors':8, 'unrelated':9}\n",
    "# invert the dictionary\n",
    "Dicct = {v: k for k, v in Dicct.items()}\n",
    "# save it as CSV\n",
    "with open('NB-2.csv', 'w', newline='') as file:\n",
    "   writer = csv.writer(file)\n",
    "   writer.writerow([\"Id\", \"Category\"])\n",
    "   for i in range(len(real_outputs)):\n",
    "      writer.writerow([i, Dicct[real_outputs[i]]])"
   ]
  },
  {
   "cell_type": "code",
   "execution_count": 17,
   "metadata": {},
   "outputs": [],
   "source": [
    "with open('runs.csv', 'a') as f:  \n",
    "      run_info = {**Preprocessing, **Features, **ModelInfo, \"acc\":Report[\"accuracy\"],\"BF1\": Report[\"macro avg\"][\"f1-score\"], \"WF1\": Report[\"weighted avg\"][\"f1-score\"] }\n",
    "      w = csv.DictWriter(f, run_info.keys())\n",
    "      w.writeheader()\n",
    "      w.writerow(run_info)"
   ]
  }
 ],
 "metadata": {
  "kernelspec": {
   "display_name": "Python 3.8.8 ('base')",
   "language": "python",
   "name": "python3"
  },
  "language_info": {
   "codemirror_mode": {
    "name": "ipython",
    "version": 3
   },
   "file_extension": ".py",
   "mimetype": "text/x-python",
   "name": "python",
   "nbconvert_exporter": "python",
   "pygments_lexer": "ipython3",
   "version": "3.8.8"
  },
  "orig_nbformat": 4,
  "vscode": {
   "interpreter": {
    "hash": "40d3a090f54c6569ab1632332b64b2c03c39dcf918b08424e98f38b5ae0af88f"
   }
  }
 },
 "nbformat": 4,
 "nbformat_minor": 2
}
