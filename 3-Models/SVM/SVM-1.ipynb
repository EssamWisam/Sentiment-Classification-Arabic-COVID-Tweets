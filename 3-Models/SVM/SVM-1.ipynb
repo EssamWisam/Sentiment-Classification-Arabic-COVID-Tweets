{
 "cells": [
  {
   "cell_type": "code",
   "execution_count": 1,
   "metadata": {},
   "outputs": [],
   "source": [
    "from IPython.utils import io\n",
    "import csv\n",
    "with io.capture_output() as captured:  \n",
    "   %run ../../2-FeatureExtraction/TF-IDF/TF-IDF.ipynb import ngram_tfidf_feature, y1, y2, dev_ngram_feature, Y1, Y2, vocabulary, Preprocessing, Features"
   ]
  },
  {
   "cell_type": "code",
   "execution_count": 2,
   "metadata": {},
   "outputs": [],
   "source": [
    "from sklearn import svm\n",
    "from sklearn.metrics import f1_score, classification_report"
   ]
  },
  {
   "cell_type": "markdown",
   "metadata": {},
   "source": [
    "#### SVM Training"
   ]
  },
  {
   "cell_type": "code",
   "execution_count": 3,
   "metadata": {},
   "outputs": [],
   "source": [
    "kernel = 'poly'\n",
    "WeightedLoss = True\n",
    "model = svm.SVC(kernel=kernel, class_weight='balanced' if WeightedLoss else None )\n",
    "model = model.fit(ngram_tfidf_feature, y1)\n",
    "ModelInfo = {\n",
    "   \"Model\": \"SVM-1\",\n",
    "   \"Kernel\":kernel,\n",
    "   \"Weighted Loss\": WeightedLoss\n",
    "}"
   ]
  },
  {
   "cell_type": "markdown",
   "metadata": {},
   "source": [
    "#### SVM Prediction"
   ]
  },
  {
   "cell_type": "code",
   "execution_count": 4,
   "metadata": {},
   "outputs": [
    {
     "name": "stdout",
     "output_type": "stream",
     "text": [
      "              precision    recall  f1-score   support\n",
      "\n",
      "           0       0.48      0.37      0.42       126\n",
      "           1       0.86      0.93      0.90       804\n",
      "           2       0.38      0.17      0.24        70\n",
      "\n",
      "    accuracy                           0.81      1000\n",
      "   macro avg       0.57      0.49      0.52      1000\n",
      "weighted avg       0.78      0.81      0.79      1000\n",
      "\n",
      "F1 score:  0.5178450664115455\n"
     ]
    }
   ],
   "source": [
    "outputs = model.predict(dev_ngram_feature)\n",
    "Report = classification_report(Y1, outputs, output_dict=True)\n",
    "print(classification_report(Y1, outputs))\n",
    "F1 = f1_score(Y1, outputs, average='macro')\n",
    "print('F1 score: ', F1)\n"
   ]
  },
  {
   "attachments": {},
   "cell_type": "markdown",
   "metadata": {},
   "source": [
    "#### Log Model Info"
   ]
  },
  {
   "cell_type": "code",
   "execution_count": 5,
   "metadata": {},
   "outputs": [],
   "source": [
    "with open('runs.csv', 'a') as f:  \n",
    "      run_info = {**Preprocessing, **Features, **ModelInfo, \"acc\":Report[\"accuracy\"],\"BF1\": Report[\"macro avg\"][\"f1-score\"], \"WF1\": Report[\"weighted avg\"][\"f1-score\"] }\n",
    "      w = csv.DictWriter(f, run_info.keys())\n",
    "      w.writeheader()\n",
    "      w.writerow(run_info)"
   ]
  }
 ],
 "metadata": {
  "kernelspec": {
   "display_name": "base",
   "language": "python",
   "name": "python3"
  },
  "language_info": {
   "codemirror_mode": {
    "name": "ipython",
    "version": 3
   },
   "file_extension": ".py",
   "mimetype": "text/x-python",
   "name": "python",
   "nbconvert_exporter": "python",
   "pygments_lexer": "ipython3",
   "version": "3.8.8"
  },
  "orig_nbformat": 4,
  "vscode": {
   "interpreter": {
    "hash": "40d3a090f54c6569ab1632332b64b2c03c39dcf918b08424e98f38b5ae0af88f"
   }
  }
 },
 "nbformat": 4,
 "nbformat_minor": 2
}
