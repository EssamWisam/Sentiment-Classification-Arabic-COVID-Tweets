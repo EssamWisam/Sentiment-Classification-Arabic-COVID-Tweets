{
 "cells": [
  {
   "cell_type": "code",
   "execution_count": 112,
   "metadata": {},
   "outputs": [],
   "source": [
    "from IPython.utils import io\n",
    "import csv\n",
    "from sklearn.model_selection import cross_val_predict, cross_val_score\n",
    "from tqdm import tqdm\n",
    "import numpy as np\n",
    "from imblearn.over_sampling import SMOTE\n",
    "with io.capture_output() as captured:  \n",
    "   %run ../../2-FeatureExtraction/TF-IDF/TF-IDF.ipynb import x, y1, y2, X, Y1, Y2, vocabulary, Preprocessing, Features\n",
    "   #%run ../../2-FeatureExtraction/ContextualEmbeddings/ContextualEmbeddings.ipynb import x, X, y1, y2, Y1, Y2, Features, Preprocesss\n",
    "if Features[\"method\"] ==  \"contextual\":\n",
    "   x, X = x[:,0,:], X[:,0,:]\n"
   ]
  },
  {
   "cell_type": "code",
   "execution_count": 113,
   "metadata": {},
   "outputs": [],
   "source": [
    "from sklearn import svm\n",
    "from sklearn.metrics import f1_score, classification_report"
   ]
  },
  {
   "cell_type": "markdown",
   "metadata": {},
   "source": [
    "#### SVM Training"
   ]
  },
  {
   "cell_type": "code",
   "execution_count": 114,
   "metadata": {},
   "outputs": [],
   "source": [
    "kernel = 'rbf'\n",
    "WeightedLoss = True\n",
    "Oversampling = True\n",
    "CrossValidation = False\n",
    "\n",
    "model = svm.SVC(kernel=kernel, class_weight='balanced' if WeightedLoss else None )\n",
    "\n",
    "ModelInfo = {\n",
    "   \"Model\": \"SVM-1\",\n",
    "   \"Kernel\":kernel,\n",
    "   \"Weighted Loss\": WeightedLoss,\n",
    "   \"Oversampling\": Oversampling,\n",
    "   \"CrossValidation\": CrossValidation,\n",
    "}\n",
    "\n",
    "if Oversampling:\n",
    "   sm = SMOTE(random_state=42)\n",
    "   x, y1 = sm.fit_resample(x, y1)"
   ]
  },
  {
   "cell_type": "markdown",
   "metadata": {},
   "source": [
    "#### SVM Prediction"
   ]
  },
  {
   "cell_type": "code",
   "execution_count": 115,
   "metadata": {},
   "outputs": [
    {
     "name": "stdout",
     "output_type": "stream",
     "text": [
      "              precision    recall  f1-score   support\n",
      "\n",
      "           0       0.34      0.38      0.36       126\n",
      "           1       0.87      0.89      0.88       804\n",
      "           2       0.47      0.27      0.35        70\n",
      "\n",
      "    accuracy                           0.78      1000\n",
      "   macro avg       0.56      0.51      0.53      1000\n",
      "weighted avg       0.78      0.78      0.78      1000\n",
      "\n",
      "F1 score:  0.5286965062785952\n"
     ]
    }
   ],
   "source": [
    "if CrossValidation:\n",
    "   X_c, Y_c1 = np.concatenate([x, X]), np.concatenate([y1, Y1])\n",
    "   outputs = cross_val_predict(model, X_c, Y_c1, cv=5)\n",
    "   Report = classification_report(Y_c1, outputs, output_dict=True)\n",
    "   print(classification_report(Y_c1, outputs))\n",
    "   F1 = f1_score(Y_c1, outputs, average='macro')\n",
    "   print('F1 score: ', F1)\n",
    "\n",
    "else:\n",
    "   model = model.fit(x, y1)\n",
    "   outputs = model.predict(X)\n",
    "   Report = classification_report(Y1, outputs, output_dict=True)\n",
    "   print(classification_report(Y1, outputs))\n",
    "   F1 = f1_score(Y1, outputs, average='macro')\n",
    "   print('F1 score: ', F1)"
   ]
  },
  {
   "attachments": {},
   "cell_type": "markdown",
   "metadata": {},
   "source": [
    "#### Log Model Info"
   ]
  },
  {
   "cell_type": "code",
   "execution_count": 116,
   "metadata": {},
   "outputs": [],
   "source": [
    "with open('runs.csv', 'a') as f:  \n",
    "      run_info = {**Preprocessing, **Features, **ModelInfo, \"acc\":Report[\"accuracy\"],\"BF1\": Report[\"macro avg\"][\"f1-score\"], \"WF1\": Report[\"weighted avg\"][\"f1-score\"] }\n",
    "      w = csv.DictWriter(f, run_info.keys())\n",
    "      w.writeheader()\n",
    "      w.writerow(run_info)"
   ]
  }
 ],
 "metadata": {
  "kernelspec": {
   "display_name": "base",
   "language": "python",
   "name": "python3"
  },
  "language_info": {
   "codemirror_mode": {
    "name": "ipython",
    "version": 3
   },
   "file_extension": ".py",
   "mimetype": "text/x-python",
   "name": "python",
   "nbconvert_exporter": "python",
   "pygments_lexer": "ipython3",
   "version": "3.8.8"
  },
  "orig_nbformat": 4,
  "vscode": {
   "interpreter": {
    "hash": "40d3a090f54c6569ab1632332b64b2c03c39dcf918b08424e98f38b5ae0af88f"
   }
  }
 },
 "nbformat": 4,
 "nbformat_minor": 2
}
