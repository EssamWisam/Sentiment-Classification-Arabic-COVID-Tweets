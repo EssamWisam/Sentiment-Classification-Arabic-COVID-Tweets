{
 "cells": [
  {
   "cell_type": "code",
   "execution_count": 14,
   "metadata": {},
   "outputs": [],
   "source": [
    "from IPython.utils import io\n",
    "import csv\n",
    "with io.capture_output() as captured:  \n",
    "   %run ../../2-FeatureExtraction/TF-IDF/TF-IDF.ipynb import x, y1, y2, X, Y1, Y2, vocabulary, Preprocessing, Features"
   ]
  },
  {
   "cell_type": "code",
   "execution_count": 15,
   "metadata": {},
   "outputs": [],
   "source": [
    "from sklearn import svm\n",
    "from sklearn.metrics import f1_score, classification_report"
   ]
  },
  {
   "cell_type": "markdown",
   "metadata": {},
   "source": [
    "#### SVM Training"
   ]
  },
  {
   "cell_type": "code",
   "execution_count": 16,
   "metadata": {},
   "outputs": [],
   "source": [
    "kernel = 'poly'\n",
    "WeightedLoss = False\n",
    "model = svm.SVC(kernel=kernel, class_weight='balanced' if WeightedLoss else None )\n",
    "model = model.fit(x, y1)\n",
    "ModelInfo = {\n",
    "   \"Model\": \"SVM-1\",\n",
    "   \"Kernel\":kernel,\n",
    "   \"Weighted Loss\": WeightedLoss\n",
    "}"
   ]
  },
  {
   "cell_type": "markdown",
   "metadata": {},
   "source": [
    "#### SVM Prediction"
   ]
  },
  {
   "cell_type": "code",
   "execution_count": 17,
   "metadata": {},
   "outputs": [
    {
     "name": "stdout",
     "output_type": "stream",
     "text": [
      "              precision    recall  f1-score   support\n",
      "\n",
      "           0       0.34      0.52      0.41       126\n",
      "           1       0.90      0.85      0.87       804\n",
      "           2       0.44      0.33      0.38        70\n",
      "\n",
      "    accuracy                           0.77      1000\n",
      "   macro avg       0.56      0.57      0.55      1000\n",
      "weighted avg       0.80      0.77      0.78      1000\n",
      "\n",
      "F1 score:  0.5543410952715655\n"
     ]
    }
   ],
   "source": [
    "outputs = model.predict(X)\n",
    "Report = classification_report(Y1, outputs, output_dict=True)\n",
    "print(classification_report(Y1, outputs))\n",
    "F1 = f1_score(Y1, outputs, average='macro')\n",
    "print('F1 score: ', F1)\n"
   ]
  },
  {
   "attachments": {},
   "cell_type": "markdown",
   "metadata": {},
   "source": [
    "#### Log Model Info"
   ]
  },
  {
   "cell_type": "code",
   "execution_count": 18,
   "metadata": {},
   "outputs": [],
   "source": [
    "with open('runs.csv', 'a') as f:  \n",
    "      run_info = {**Preprocessing, **Features, **ModelInfo, \"acc\":Report[\"accuracy\"],\"BF1\": Report[\"macro avg\"][\"f1-score\"], \"WF1\": Report[\"weighted avg\"][\"f1-score\"] }\n",
    "      w = csv.DictWriter(f, run_info.keys())\n",
    "      w.writeheader()\n",
    "      w.writerow(run_info)"
   ]
  }
 ],
 "metadata": {
  "kernelspec": {
   "display_name": "base",
   "language": "python",
   "name": "python3"
  },
  "language_info": {
   "codemirror_mode": {
    "name": "ipython",
    "version": 3
   },
   "file_extension": ".py",
   "mimetype": "text/x-python",
   "name": "python",
   "nbconvert_exporter": "python",
   "pygments_lexer": "ipython3",
   "version": "3.9.12"
  },
  "orig_nbformat": 4,
  "vscode": {
   "interpreter": {
    "hash": "ad2bdc8ecc057115af97d19610ffacc2b4e99fae6737bb82f5d7fb13d2f2c186"
   }
  }
 },
 "nbformat": 4,
 "nbformat_minor": 2
}
