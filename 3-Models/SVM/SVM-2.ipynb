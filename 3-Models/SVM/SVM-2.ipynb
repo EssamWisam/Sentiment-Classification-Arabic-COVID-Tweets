{
 "cells": [
  {
   "cell_type": "code",
   "execution_count": 4,
   "metadata": {},
   "outputs": [],
   "source": [
    "from IPython.utils import io\n",
    "import csv\n",
    "with io.capture_output() as captured:  \n",
    "   %run ../../2-FeatureExtraction/TF-IDF/TF-IDF.ipynb import x, y1, y2, X, Y1, Y2, vocabulary, Preprocessing, Features"
   ]
  },
  {
   "cell_type": "code",
   "execution_count": 5,
   "metadata": {},
   "outputs": [],
   "source": [
    "from sklearn import svm\n",
    "from sklearn.metrics import f1_score, classification_report"
   ]
  },
  {
   "cell_type": "markdown",
   "metadata": {},
   "source": [
    "#### SVM Training"
   ]
  },
  {
   "cell_type": "code",
   "execution_count": 6,
   "metadata": {},
   "outputs": [],
   "source": [
    "kernel = 'poly'\n",
    "WeightedLoss = True\n",
    "model = svm.SVC(kernel=kernel, class_weight='balanced' if WeightedLoss else None )\n",
    "model = model.fit(x, y2)\n",
    "ModelInfo = {\n",
    "   \"Model\": \"SVM-2\",\n",
    "   \"Kernel\":kernel,\n",
    "   \"Weighted Loss\": WeightedLoss\n",
    "}"
   ]
  },
  {
   "cell_type": "markdown",
   "metadata": {},
   "source": [
    "#### SVM Prediction"
   ]
  },
  {
   "cell_type": "code",
   "execution_count": 7,
   "metadata": {},
   "outputs": [
    {
     "name": "stdout",
     "output_type": "stream",
     "text": [
      "              precision    recall  f1-score   support\n",
      "\n",
      "           0       0.38      0.30      0.33        10\n",
      "           1       0.83      0.81      0.82       145\n",
      "           2       0.75      0.53      0.62       545\n",
      "           3       0.09      0.12      0.10        17\n",
      "           4       0.34      0.62      0.44       128\n",
      "           5       0.24      0.37      0.29        82\n",
      "           6       0.15      0.20      0.17        20\n",
      "           7       0.25      0.50      0.33         2\n",
      "           8       0.00      0.00      0.00        15\n",
      "           9       0.29      0.36      0.32        36\n",
      "\n",
      "    accuracy                           0.54      1000\n",
      "   macro avg       0.33      0.38      0.34      1000\n",
      "weighted avg       0.61      0.54      0.56      1000\n",
      "\n",
      "F1 score:  0.34244216708370134\n"
     ]
    }
   ],
   "source": [
    "outputs = model.predict(X)\n",
    "Report = classification_report(Y2, outputs, output_dict=True)\n",
    "print(classification_report(Y2, outputs))\n",
    "F1 = f1_score(Y2, outputs, average='macro')\n",
    "print('F1 score: ', F1)"
   ]
  },
  {
   "attachments": {},
   "cell_type": "markdown",
   "metadata": {},
   "source": [
    "#### Log Model Info"
   ]
  },
  {
   "cell_type": "code",
   "execution_count": 8,
   "metadata": {},
   "outputs": [],
   "source": [
    "with open('runs.csv', 'a') as f:  \n",
    "      run_info = {**Preprocessing, **Features, **ModelInfo, \"acc\":Report[\"accuracy\"],\"BF1\": Report[\"macro avg\"][\"f1-score\"], \"WF1\": Report[\"weighted avg\"][\"f1-score\"] }\n",
    "      w = csv.DictWriter(f, run_info.keys())\n",
    "      w.writeheader()\n",
    "      w.writerow(run_info)"
   ]
  }
 ],
 "metadata": {
  "kernelspec": {
   "display_name": "base",
   "language": "python",
   "name": "python3"
  },
  "language_info": {
   "codemirror_mode": {
    "name": "ipython",
    "version": 3
   },
   "file_extension": ".py",
   "mimetype": "text/x-python",
   "name": "python",
   "nbconvert_exporter": "python",
   "pygments_lexer": "ipython3",
   "version": "3.9.12"
  },
  "orig_nbformat": 4,
  "vscode": {
   "interpreter": {
    "hash": "ad2bdc8ecc057115af97d19610ffacc2b4e99fae6737bb82f5d7fb13d2f2c186"
   }
  }
 },
 "nbformat": 4,
 "nbformat_minor": 2
}
