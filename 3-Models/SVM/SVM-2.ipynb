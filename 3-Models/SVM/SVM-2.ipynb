{
 "cells": [
  {
   "cell_type": "code",
   "execution_count": 2,
   "metadata": {},
   "outputs": [],
   "source": [
    "from IPython.utils import io\n",
    "import csv\n",
    "with io.capture_output() as captured:  \n",
    "   %run ../../2-FeatureExtraction/TF-IDF/TF-IDF.ipynb import ngram_tfidf_feature, y1, y2, dev_ngram_feature, Y1, Y2, vocabulary, Preprocessing, Features"
   ]
  },
  {
   "cell_type": "code",
   "execution_count": 3,
   "metadata": {},
   "outputs": [],
   "source": [
    "from sklearn import svm\n",
    "from sklearn.metrics import f1_score, classification_report"
   ]
  },
  {
   "cell_type": "markdown",
   "metadata": {},
   "source": [
    "#### SVM Training"
   ]
  },
  {
   "cell_type": "code",
   "execution_count": 4,
   "metadata": {},
   "outputs": [],
   "source": [
    "kernel = 'poly'\n",
    "WeightedLoss = True\n",
    "model = svm.SVC(kernel=kernel, class_weight='balanced' if WeightedLoss else None )\n",
    "model = model.fit(ngram_tfidf_feature, y2)\n",
    "ModelInfo = {\n",
    "   \"Model\": \"SVM-2\",\n",
    "   \"Kernel\":kernel,\n",
    "   \"Weighted Loss\": WeightedLoss\n",
    "}"
   ]
  },
  {
   "cell_type": "markdown",
   "metadata": {},
   "source": [
    "#### SVM Prediction"
   ]
  },
  {
   "cell_type": "code",
   "execution_count": 5,
   "metadata": {},
   "outputs": [
    {
     "name": "stdout",
     "output_type": "stream",
     "text": [
      "              precision    recall  f1-score   support\n",
      "\n",
      "           0       1.00      0.10      0.18        10\n",
      "           1       0.74      0.68      0.71       145\n",
      "           2       0.63      0.67      0.65       545\n",
      "           3       0.00      0.00      0.00        17\n",
      "           4       0.28      0.33      0.30       128\n",
      "           5       0.19      0.20      0.19        82\n",
      "           6       0.19      0.15      0.17        20\n",
      "           7       0.33      0.50      0.40         2\n",
      "           8       0.00      0.00      0.00        15\n",
      "           9       0.40      0.28      0.33        36\n",
      "\n",
      "    accuracy                           0.54      1000\n",
      "   macro avg       0.38      0.29      0.29      1000\n",
      "weighted avg       0.53      0.54      0.53      1000\n",
      "\n",
      "F1 score:  0.29294114996392356\n"
     ]
    }
   ],
   "source": [
    "outputs = model.predict(dev_ngram_feature)\n",
    "Report = classification_report(Y2, outputs, output_dict=True)\n",
    "print(classification_report(Y2, outputs))\n",
    "F1 = f1_score(Y2, outputs, average='macro')\n",
    "print('F1 score: ', F1)"
   ]
  },
  {
   "attachments": {},
   "cell_type": "markdown",
   "metadata": {},
   "source": [
    "#### Log Model Info"
   ]
  },
  {
   "cell_type": "code",
   "execution_count": 6,
   "metadata": {},
   "outputs": [],
   "source": [
    "with open('runs.csv', 'a') as f:  \n",
    "      run_info = {**Preprocessing, **Features, **ModelInfo, \"acc\":Report[\"accuracy\"],\"BF1\": Report[\"macro avg\"][\"f1-score\"], \"WF1\": Report[\"weighted avg\"][\"f1-score\"] }\n",
    "      w = csv.DictWriter(f, run_info.keys())\n",
    "      w.writeheader()\n",
    "      w.writerow(run_info)"
   ]
  }
 ],
 "metadata": {
  "kernelspec": {
   "display_name": "Python 3.8.8 ('base')",
   "language": "python",
   "name": "python3"
  },
  "language_info": {
   "codemirror_mode": {
    "name": "ipython",
    "version": 3
   },
   "file_extension": ".py",
   "mimetype": "text/x-python",
   "name": "python",
   "nbconvert_exporter": "python",
   "pygments_lexer": "ipython3",
   "version": "3.8.8"
  },
  "orig_nbformat": 4,
  "vscode": {
   "interpreter": {
    "hash": "40d3a090f54c6569ab1632332b64b2c03c39dcf918b08424e98f38b5ae0af88f"
   }
  }
 },
 "nbformat": 4,
 "nbformat_minor": 2
}
