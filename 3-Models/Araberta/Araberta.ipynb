{
 "cells": [
  {
   "cell_type": "markdown",
   "metadata": {},
   "source": [
    "##### To Be Implemented: https://huggingface.co/mohadz/arabert_arabic_covid19?text=%D9%84%D9%84%D9%88%D9%82%D8%A7%D9%8A%D9%87+%D9%85%D9%86+%D8%B9%D8%AF%D9%85+%D8%A7%D9%86%D8%AA%D8%B4%D8%A7%D8%B1+%5BMASK%5D"
   ]
  }
 ],
 "metadata": {
  "kernelspec": {
   "display_name": "Python 3.8.8 ('base')",
   "language": "python",
   "name": "python3"
  },
  "language_info": {
   "name": "python",
   "version": "3.8.8"
  },
  "orig_nbformat": 4,
  "vscode": {
   "interpreter": {
    "hash": "40d3a090f54c6569ab1632332b64b2c03c39dcf918b08424e98f38b5ae0af88f"
   }
  }
 },
 "nbformat": 4,
 "nbformat_minor": 2
}
