{
 "cells": [
  {
   "cell_type": "code",
   "execution_count": 1,
   "metadata": {},
   "outputs": [],
   "source": [
    "from IPython.utils import io\n",
    "import csv\n",
    "with io.capture_output() as captured:  \n",
    "   %run ../../2-FeatureExtraction/OneHot/OneHot.ipynb import x, y1, y2, X, Y1, Y2, vocabulary, Preprocessing, Features"
   ]
  },
  {
   "cell_type": "markdown",
   "metadata": {},
   "source": [
    "#### Imports"
   ]
  },
  {
   "cell_type": "code",
   "execution_count": 2,
   "metadata": {},
   "outputs": [],
   "source": [
    "import numpy as np \n",
    "import pandas as pd \n",
    "import torch\n",
    "import torch.nn as nn\n",
    "import torch.nn.functional as F\n",
    "from nltk.corpus import stopwords \n",
    "from tqdm import tqdm\n",
    "import matplotlib.pyplot as plt\n",
    "from torch.utils.data import TensorDataset, DataLoader\n",
    "from sklearn.metrics import f1_score\n",
    "from sklearn.metrics import classification_report"
   ]
  },
  {
   "cell_type": "code",
   "execution_count": 3,
   "metadata": {},
   "outputs": [
    {
     "name": "stdout",
     "output_type": "stream",
     "text": [
      "cpu\n"
     ]
    }
   ],
   "source": [
    "device = torch.device(\"cuda\" if torch.cuda.is_available() else \"cpu\"); print(device)"
   ]
  },
  {
   "cell_type": "markdown",
   "metadata": {},
   "source": [
    "#### Loading the Preprocessed Data"
   ]
  },
  {
   "cell_type": "code",
   "execution_count": 4,
   "metadata": {},
   "outputs": [],
   "source": [
    "train_data = TensorDataset(torch.from_numpy(x), torch.from_numpy(y1))\n",
    "valid_data = TensorDataset(torch.from_numpy(X), torch.from_numpy(Y1))\n",
    "\n",
    "batch_size = 256\n",
    "\n",
    "train_loader = DataLoader(train_data, shuffle=True, batch_size=batch_size)\n",
    "valid_loader = DataLoader(valid_data, shuffle=True, batch_size=1024)"
   ]
  },
  {
   "cell_type": "markdown",
   "metadata": {},
   "source": [
    "#### Creating the Model"
   ]
  },
  {
   "cell_type": "code",
   "execution_count": 5,
   "metadata": {},
   "outputs": [],
   "source": [
    "class SequenceModel(nn.Module):\n",
    "    def __init__(self, vocab_size, embedding_dim,  hidden_dim, output_dim,  num_layers, drop_prob=0.5):\n",
    "        super().__init__()\n",
    "\n",
    "        # Network Dimensions\n",
    "        self.vocab_size, self.hidden_dim, self.output_dim  = vocab_size, hidden_dim, output_dim\n",
    "        self.num_layers = num_layers\n",
    "    \n",
    "        # Embedding Layer\n",
    "        self.embedding = nn.Embedding(vocab_size, embedding_dim)\n",
    "        \n",
    "        # LSTM Layer\n",
    "        self.lstm = nn.LSTM(input_size=embedding_dim, hidden_size=self.hidden_dim, num_layers=num_layers, batch_first=True)\n",
    "        \n",
    "        # Drop out layer\n",
    "        self.dropout = nn.Dropout(drop_prob)\n",
    "    \n",
    "        # Output Layer\n",
    "        self.output = nn.Linear(self.hidden_dim, output_dim)      # Or make it linear and use Sofrmax (in loss)\n",
    "   \n",
    "    def forward(self, x):\n",
    "        \n",
    "        embeds = self.embedding(x)                                          # B * Seq_Len * embedding_dim\n",
    "        \n",
    "        lstm_out, _ = self.lstm(embeds)                                     # B * Seq_Len * hidden_dim\n",
    "        \n",
    "        lstm_out =  lstm_out[:, -1, :]                                      # B * hidden_dim\n",
    "\n",
    "        drop_out = self.dropout(lstm_out)                                   # B * hidden_dim\n",
    "\n",
    "        \n",
    "        out = self.output(drop_out)                                         # B * output_dim\n",
    "        \n",
    "        return out\n",
    "        "
   ]
  },
  {
   "cell_type": "markdown",
   "metadata": {},
   "source": [
    "#### Initializing the Model"
   ]
  },
  {
   "cell_type": "code",
   "execution_count": 6,
   "metadata": {},
   "outputs": [
    {
     "name": "stdout",
     "output_type": "stream",
     "text": [
      "SequenceModel(\n",
      "  (embedding): Embedding(17616, 200)\n",
      "  (lstm): LSTM(200, 300, num_layers=2, batch_first=True)\n",
      "  (dropout): Dropout(p=0.5, inplace=False)\n",
      "  (output): Linear(in_features=300, out_features=3, bias=True)\n",
      ")\n"
     ]
    }
   ],
   "source": [
    "num_layers = 2\n",
    "vocab_size = len(vocabulary)\n",
    "embedding_dim = 200\n",
    "output_dim = 3\n",
    "hidden_dim = 300\n",
    "drop_prob = 0.5\n",
    "lr=0.001\n",
    "clip = 5\n",
    "epochs = 5 \n",
    "WeightedLoss = True\n",
    "\n",
    "\n",
    "ModelInfo = {\n",
    "   \"Model\": \"LSTM-1\",\n",
    "   \"batch_size\": batch_size,\n",
    "   \"Number of Layers\": num_layers,\n",
    "   \"Embedding Dimension\": embedding_dim,\n",
    "   \"Hidden Dimension\": hidden_dim,\n",
    "   \"Dropout Prob\": drop_prob,\n",
    "   \"Learning Rate\": lr,\n",
    "   \"Gradient Clip\": clip,\n",
    "   \"Number of Epochs\": epochs,\n",
    "   \"Weighted Loss\": WeightedLoss\n",
    "}\n",
    "\n",
    "model = SequenceModel(vocab_size, embedding_dim,  hidden_dim, output_dim,  num_layers).to(device)\n",
    "\n",
    "print(model)"
   ]
  },
  {
   "cell_type": "markdown",
   "metadata": {},
   "source": [
    "#### Training & Validating the Model"
   ]
  },
  {
   "cell_type": "code",
   "execution_count": 7,
   "metadata": {},
   "outputs": [
    {
     "name": "stdout",
     "output_type": "stream",
     "text": [
      "tensor([0.2863, 0.0523, 0.6614])\n"
     ]
    }
   ],
   "source": [
    "# loss and optimization functions\n",
    "if WeightedLoss:\n",
    "    w = torch.tensor(np.load(\"../../Dataset/w1.npy\").astype(np.float32)).to(device)\n",
    "    print(w)\n",
    "    criterion = nn.CrossEntropyLoss(weight=w).to(device)\n",
    "else:\n",
    "      criterion = nn.CrossEntropyLoss().to(device)\n",
    "      \n",
    "optimizer = torch.optim.Adam(model.parameters(), lr=lr)"
   ]
  },
  {
   "cell_type": "code",
   "execution_count": 8,
   "metadata": {},
   "outputs": [
    {
     "name": "stderr",
     "output_type": "stream",
     "text": [
      "100%|██████████| 28/28 [01:31<00:00,  3.28s/it]\n"
     ]
    },
    {
     "name": "stdout",
     "output_type": "stream",
     "text": [
      "Epoch 1\n",
      "==================================================\n"
     ]
    },
    {
     "name": "stderr",
     "output_type": "stream",
     "text": [
      "100%|██████████| 28/28 [01:18<00:00,  2.79s/it]\n"
     ]
    },
    {
     "name": "stdout",
     "output_type": "stream",
     "text": [
      "Epoch 2\n",
      "==================================================\n"
     ]
    },
    {
     "name": "stderr",
     "output_type": "stream",
     "text": [
      "100%|██████████| 28/28 [01:17<00:00,  2.78s/it]\n"
     ]
    },
    {
     "name": "stdout",
     "output_type": "stream",
     "text": [
      "Epoch 3\n",
      "==================================================\n",
      "Done\n",
      "              precision    recall  f1-score   support\n",
      "\n",
      "           0       0.13      0.70      0.22       126\n",
      "           1       0.81      0.07      0.13       804\n",
      "           2       0.08      0.27      0.12        70\n",
      "\n",
      "    accuracy                           0.16      1000\n",
      "   macro avg       0.34      0.35      0.16      1000\n",
      "weighted avg       0.68      0.16      0.14      1000\n",
      "\n",
      "Macro F1 Score:  0.1561075660763553\n"
     ]
    }
   ],
   "source": [
    "epoch_tr_loss, epoch_vl_loss = [], []\n",
    "\n",
    "for epoch in range(epochs):\n",
    "    train_losses = []\n",
    "    for inputs, labels in tqdm(train_loader):\n",
    "        \n",
    "        inputs, labels = inputs.to(device), labels.to(device)   \n",
    "        \n",
    "        output = model(inputs)\n",
    "        loss = criterion(output, labels)\n",
    "        \n",
    "        optimizer.zero_grad()\n",
    "        \n",
    "        loss.backward()\n",
    "        \n",
    "        optimizer.step()\n",
    "        \n",
    "        train_losses.append(loss.item())\n",
    "\n",
    "        nn.utils.clip_grad_norm_(model.parameters(), clip)\n",
    "        \n",
    "    val_losses = []\n",
    "    for inputs, labels in valid_loader:\n",
    "        with torch.no_grad():\n",
    "            inputs, labels = inputs.to(device), labels.to(device)\n",
    "            output = model(inputs)\n",
    "            val_loss = criterion(output, labels)\n",
    "            val_losses.append(val_loss.item())\n",
    "\n",
    "    epoch_tr_loss.append(np.mean(train_losses))\n",
    "    epoch_vl_loss.append(np.mean(val_losses))\n",
    "    print(f'Epoch {epoch+1}') \n",
    "    print(25*'==')\n",
    "    if epoch == epochs-1 or epoch_vl_loss[-1] > epoch_tr_loss[-1]:\n",
    "        F1 = f1_score(labels.cpu().numpy(), output.argmax(1).cpu().numpy(), average='macro')\n",
    "        Report = classification_report(labels.cpu().numpy(), output.argmax(1).cpu().numpy(), output_dict=True)\n",
    "        print(\"Done\")\n",
    "        print(classification_report(labels.cpu().numpy(), output.argmax(1).cpu().numpy()))\n",
    "        print(\"Macro F1 Score: \", F1)         \n",
    "        break\n",
    "\n"
   ]
  },
  {
   "attachments": {},
   "cell_type": "markdown",
   "metadata": {},
   "source": [
    "#### Saving Run Info"
   ]
  },
  {
   "cell_type": "code",
   "execution_count": 9,
   "metadata": {},
   "outputs": [],
   "source": [
    "with open('runs.csv', 'a') as f:  \n",
    "      run_info = {**Preprocessing, **Features, **ModelInfo, \"acc\":Report[\"accuracy\"],\"BF1\": Report[\"macro avg\"][\"f1-score\"], \"WF1\": Report[\"weighted avg\"][\"f1-score\"] }\n",
    "      w = csv.DictWriter(f, run_info.keys())\n",
    "      w.writeheader()\n",
    "      w.writerow(run_info)"
   ]
  },
  {
   "cell_type": "markdown",
   "metadata": {},
   "source": [
    "#### Loss and Accuracy"
   ]
  },
  {
   "cell_type": "code",
   "execution_count": 10,
   "metadata": {},
   "outputs": [
    {
     "data": {
      "image/png": "[encoded data removed]",
      "text/plain": [
       "<Figure size 432x288 with 1 Axes>"
      ]
     },
     "metadata": {
      "needs_background": "light"
     },
     "output_type": "display_data"
    }
   ],
   "source": [
    "plt.plot(epoch_tr_loss, label='Train loss', color='red')\n",
    "plt.plot(epoch_vl_loss, label='Validation loss', color='blue')\n",
    "plt.title(\"Loss\")\n",
    "plt.xlabel(\"Epochs\")\n",
    "plt.legend()\n",
    "plt.show()"
   ]
  }
 ],
 "metadata": {
  "kernelspec": {
   "display_name": "Python 3.8.8 ('base')",
   "language": "python",
   "name": "python3"
  },
  "language_info": {
   "codemirror_mode": {
    "name": "ipython",
    "version": 3
   },
   "file_extension": ".py",
   "mimetype": "text/x-python",
   "name": "python",
   "nbconvert_exporter": "python",
   "pygments_lexer": "ipython3",
   "version": "3.8.8"
  },
  "orig_nbformat": 4,
  "vscode": {
   "interpreter": {
    "hash": "40d3a090f54c6569ab1632332b64b2c03c39dcf918b08424e98f38b5ae0af88f"
   }
  }
 },
 "nbformat": 4,
 "nbformat_minor": 2
}
