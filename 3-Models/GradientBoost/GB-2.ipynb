{
 "cells": [
  {
   "cell_type": "code",
   "execution_count": 1,
   "metadata": {},
   "outputs": [],
   "source": [
    "from IPython.utils import io\n",
    "import csv\n",
    "with io.capture_output() as captured:  \n",
    "   %run ../../2-FeatureExtraction/TF-IDF/TF-IDF.ipynb import x, y1, y2, X, Y1, Y2, vocabulary, Preprocessing, Features"
   ]
  },
  {
   "cell_type": "code",
   "execution_count": 2,
   "metadata": {},
   "outputs": [],
   "source": [
    "from sklearn.ensemble import GradientBoostingClassifier\n",
    "from sklearn.metrics import f1_score\n",
    "from sklearn.metrics import f1_score, classification_report"
   ]
  },
  {
   "attachments": {},
   "cell_type": "markdown",
   "metadata": {},
   "source": [
    "#### GB Training"
   ]
  },
  {
   "cell_type": "code",
   "execution_count": 3,
   "metadata": {},
   "outputs": [],
   "source": [
    "n_estimators = 300\n",
    "model = GradientBoostingClassifier(n_estimators=n_estimators)\n",
    "model = model.fit(x, y2)\n",
    "ModelInfo = {\n",
    "   \"Model\": \"GB-2\",\n",
    "   \"Number of Boosters\": n_estimators\n",
    "}"
   ]
  },
  {
   "attachments": {},
   "cell_type": "markdown",
   "metadata": {},
   "source": [
    "#### GB Prediction"
   ]
  },
  {
   "cell_type": "code",
   "execution_count": 4,
   "metadata": {},
   "outputs": [
    {
     "name": "stdout",
     "output_type": "stream",
     "text": [
      "              precision    recall  f1-score   support\n",
      "\n",
      "           0       0.17      0.20      0.18        10\n",
      "           1       0.86      0.77      0.81       145\n",
      "           2       0.68      0.86      0.76       545\n",
      "           3       0.00      0.00      0.00        17\n",
      "           4       0.70      0.41      0.52       128\n",
      "           5       0.25      0.09      0.13        82\n",
      "           6       0.16      0.15      0.15        20\n",
      "           7       0.50      0.50      0.50         2\n",
      "           8       0.00      0.00      0.00        15\n",
      "           9       0.56      0.25      0.35        36\n",
      "\n",
      "    accuracy                           0.66      1000\n",
      "   macro avg       0.39      0.32      0.34      1000\n",
      "weighted avg       0.63      0.66      0.63      1000\n",
      "\n",
      "F1 score:  0.3404764012755834\n"
     ]
    }
   ],
   "source": [
    "outputs = model.predict(X)\n",
    "Report = classification_report(Y2, outputs, output_dict=True)\n",
    "print(classification_report(Y2, outputs))\n",
    "F1 = f1_score(Y2, outputs, average='macro')\n",
    "print('F1 score: ', F1)\n"
   ]
  },
  {
   "attachments": {},
   "cell_type": "markdown",
   "metadata": {},
   "source": [
    "#### Log Model Info"
   ]
  },
  {
   "cell_type": "code",
   "execution_count": 5,
   "metadata": {},
   "outputs": [],
   "source": [
    "with open('runs.csv', 'a') as f:  \n",
    "      run_info = {**Preprocessing, **Features, **ModelInfo, \"acc\":Report[\"accuracy\"],\"BF1\": Report[\"macro avg\"][\"f1-score\"], \"WF1\": Report[\"weighted avg\"][\"f1-score\"] }\n",
    "      w = csv.DictWriter(f, run_info.keys())\n",
    "      w.writeheader()\n",
    "      w.writerow(run_info)"
   ]
  }
 ],
 "metadata": {
  "kernelspec": {
   "display_name": "base",
   "language": "python",
   "name": "python3"
  },
  "language_info": {
   "codemirror_mode": {
    "name": "ipython",
    "version": 3
   },
   "file_extension": ".py",
   "mimetype": "text/x-python",
   "name": "python",
   "nbconvert_exporter": "python",
   "pygments_lexer": "ipython3",
   "version": "3.9.12"
  },
  "orig_nbformat": 4,
  "vscode": {
   "interpreter": {
    "hash": "ad2bdc8ecc057115af97d19610ffacc2b4e99fae6737bb82f5d7fb13d2f2c186"
   }
  }
 },
 "nbformat": 4,
 "nbformat_minor": 2
}
