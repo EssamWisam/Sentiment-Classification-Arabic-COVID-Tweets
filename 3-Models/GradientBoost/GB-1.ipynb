{
 "cells": [
  {
   "cell_type": "code",
   "execution_count": 9,
   "metadata": {},
   "outputs": [],
   "source": [
    "from IPython.utils import io\n",
    "import csv\n",
    "from imblearn.over_sampling import SMOTE\n",
    "from imblearn.over_sampling import ADASYN\n",
    "from imblearn.combine import SMOTEENN\n",
    "with io.capture_output() as captured:  \n",
    "   %run ../../2-FeatureExtraction/BowTF/BowTF.ipynb import x, y1, y2, X, Y1, Y2, vocabulary, Preprocessing, Features\n",
    "   #%run ../../2-FeatureExtraction/TF-IDF/TF-IDF.ipynb import x, y1, y2, X, Y1, Y2, vocabulary, Preprocessing, Features"
   ]
  },
  {
   "cell_type": "code",
   "execution_count": 10,
   "metadata": {},
   "outputs": [],
   "source": [
    "from sklearn.ensemble import GradientBoostingClassifier\n",
    "from sklearn.metrics import f1_score\n",
    "from sklearn.metrics import f1_score, classification_report"
   ]
  },
  {
   "attachments": {},
   "cell_type": "markdown",
   "metadata": {},
   "source": [
    "#### GB Training"
   ]
  },
  {
   "cell_type": "code",
   "execution_count": 11,
   "metadata": {},
   "outputs": [],
   "source": [
    "Oversampling = True\n",
    "n_estimators = 200\n",
    "model = GradientBoostingClassifier(n_estimators=n_estimators)\n",
    "ModelInfo = {\n",
    "   \"Model\": \"GB-1\",\n",
    "   \"Number of Boosters\": n_estimators\n",
    "}\n",
    "\n",
    "if Oversampling:\n",
    "   sm = ADASYN(random_state=42)\n",
    "   x, y1 = sm.fit_resample(x, y1)\n",
    "\n",
    "model = model.fit(x, y1)"
   ]
  },
  {
   "attachments": {},
   "cell_type": "markdown",
   "metadata": {},
   "source": [
    "#### GB Prediction"
   ]
  },
  {
   "cell_type": "code",
   "execution_count": 14,
   "metadata": {},
   "outputs": [
    {
     "name": "stdout",
     "output_type": "stream",
     "text": [
      "              precision    recall  f1-score   support\n",
      "\n",
      "           0       0.40      0.25      0.31       126\n",
      "           1       0.85      0.93      0.89       804\n",
      "           2       0.36      0.23      0.28        70\n",
      "\n",
      "    accuracy                           0.80      1000\n",
      "   macro avg       0.54      0.47      0.49      1000\n",
      "weighted avg       0.76      0.80      0.77      1000\n",
      "\n",
      "F1 score:  0.49166978749555884\n",
      "(16717, 15707)\n"
     ]
    }
   ],
   "source": [
    "outputs = model.predict(X)\n",
    "Report = classification_report(Y1, outputs, output_dict=True)\n",
    "print(classification_report(Y1, outputs))\n",
    "F1 = f1_score(Y1, outputs, average='macro')\n",
    "print('F1 score: ', F1)\n",
    "\n",
    "print(x.shape)"
   ]
  },
  {
   "attachments": {},
   "cell_type": "markdown",
   "metadata": {},
   "source": [
    "#### Log Model Info"
   ]
  },
  {
   "cell_type": "code",
   "execution_count": 13,
   "metadata": {},
   "outputs": [],
   "source": [
    "with open('runs.csv', 'a') as f:  \n",
    "      run_info = {**Preprocessing, **Features, **ModelInfo, \"acc\":Report[\"accuracy\"],\"BF1\": Report[\"macro avg\"][\"f1-score\"], \"WF1\": Report[\"weighted avg\"][\"f1-score\"] }\n",
    "      w = csv.DictWriter(f, run_info.keys())\n",
    "      w.writeheader()\n",
    "      w.writerow(run_info)"
   ]
  }
 ],
 "metadata": {
  "kernelspec": {
   "display_name": "base",
   "language": "python",
   "name": "python3"
  },
  "language_info": {
   "codemirror_mode": {
    "name": "ipython",
    "version": 3
   },
   "file_extension": ".py",
   "mimetype": "text/x-python",
   "name": "python",
   "nbconvert_exporter": "python",
   "pygments_lexer": "ipython3",
   "version": "3.8.8 (default, Apr 13 2021, 12:59:45) \n[Clang 10.0.0 ]"
  },
  "orig_nbformat": 4,
  "vscode": {
   "interpreter": {
    "hash": "40d3a090f54c6569ab1632332b64b2c03c39dcf918b08424e98f38b5ae0af88f"
   }
  }
 },
 "nbformat": 4,
 "nbformat_minor": 2
}
