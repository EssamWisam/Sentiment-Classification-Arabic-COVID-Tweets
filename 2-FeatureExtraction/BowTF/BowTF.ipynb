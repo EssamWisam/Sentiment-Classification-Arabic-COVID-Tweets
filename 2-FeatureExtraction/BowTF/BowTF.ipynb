{
 "cells": [
  {
   "cell_type": "code",
   "execution_count": 87,
   "metadata": {},
   "outputs": [],
   "source": [
    "from IPython.utils import io\n",
    "import csv\n",
    "import numpy as np\n",
    "from sklearn.model_selection import cross_val_predict, cross_val_score\n",
    "saved = False\n",
    "if not saved:\n",
    "   with io.capture_output() as captured:  \n",
    "      %run ../../2-FeatureExtraction/TF-IDF/TF-IDF.ipynb import x, y1, y2, X, Y1, Y2, vocabulary, Preprocessing, Features, X_test\n",
    "      x_n, X_n, X_testn = x, X, X_test\n",
    "      %run ../../2-FeatureExtraction/BagOfWords/BagOfWords.ipynb import x, y1, y2, X, Y1, Y2, vocabulary, Preprocessing, Features, X_test\n",
    "      x_b, X_b, X_testb = x, X, X_test\n",
    "      "
   ]
  },
  {
   "attachments": {},
   "cell_type": "markdown",
   "metadata": {},
   "source": [
    "#### Combine the Two Features"
   ]
  },
  {
   "cell_type": "code",
   "execution_count": 89,
   "metadata": {},
   "outputs": [],
   "source": [
    "if not saved:\n",
    "   X, x = np.concatenate((X_n.A, X_b.A), axis=1), np.concatenate((x_n.A, x_b.A), axis=1)\n",
    "   X_test = np.concatenate((X_test_n.A, X_test_b.A), axis=1)\n",
    "   Features = {\"method\": \"BoW+TF\"}\n",
    "   \n"
   ]
  }
 ],
 "metadata": {
  "kernelspec": {
   "display_name": "Python 3.8.8 ('base')",
   "language": "python",
   "name": "python3"
  },
  "language_info": {
   "codemirror_mode": {
    "name": "ipython",
    "version": 3
   },
   "file_extension": ".py",
   "mimetype": "text/x-python",
   "name": "python",
   "nbconvert_exporter": "python",
   "pygments_lexer": "ipython3",
   "version": "3.8.8 (default, Apr 13 2021, 12:59:45) \n[Clang 10.0.0 ]"
  },
  "orig_nbformat": 4,
  "vscode": {
   "interpreter": {
    "hash": "40d3a090f54c6569ab1632332b64b2c03c39dcf918b08424e98f38b5ae0af88f"
   }
  }
 },
 "nbformat": 4,
 "nbformat_minor": 2
}
