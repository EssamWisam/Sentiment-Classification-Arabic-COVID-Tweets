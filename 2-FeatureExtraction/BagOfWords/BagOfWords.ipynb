{
 "cells": [
  {
   "cell_type": "code",
   "execution_count": 45,
   "metadata": {},
   "outputs": [],
   "source": [
    "from sklearn.feature_extraction.text import CountVectorizer\n",
    "import numpy as np\n",
    "import os"
   ]
  },
  {
   "attachments": {},
   "cell_type": "markdown",
   "metadata": {},
   "source": [
    "#### Join the Tweets into a Corpus then Obtain BOW Feature Vector"
   ]
  },
  {
   "cell_type": "code",
   "execution_count": 46,
   "metadata": {},
   "outputs": [],
   "source": [
    "\n",
    "%run ../../1-Preprocessing/Preprocessing/Preprocess.ipynb import x, y1, y2, X, Y1, Y2, vocabulary, Preprocessing\n",
    "x = [' '.join(tweet) for tweet in x]\n",
    "X = [' '.join(tweet) for tweet in X]\n",
    "\n",
    "vectorizer = CountVectorizer(token_pattern=r'\\S+')\n",
    "vectorizer.fit(x)\n",
    "x = vectorizer.transform(x)\n",
    "X = vectorizer.transform(X)\n",
    "\n",
    "\n",
    "Features = {\"method\": \"Bag of Words\"}"
   ]
  }
 ],
 "metadata": {
  "kernelspec": {
   "display_name": "Python 3.8.8 ('base')",
   "language": "python",
   "name": "python3"
  },
  "language_info": {
   "codemirror_mode": {
    "name": "ipython",
    "version": 3
   },
   "file_extension": ".py",
   "mimetype": "text/x-python",
   "name": "python",
   "nbconvert_exporter": "python",
   "pygments_lexer": "ipython3",
   "version": "3.8.8"
  },
  "orig_nbformat": 4,
  "vscode": {
   "interpreter": {
    "hash": "40d3a090f54c6569ab1632332b64b2c03c39dcf918b08424e98f38b5ae0af88f"
   }
  }
 },
 "nbformat": 4,
 "nbformat_minor": 2
}
