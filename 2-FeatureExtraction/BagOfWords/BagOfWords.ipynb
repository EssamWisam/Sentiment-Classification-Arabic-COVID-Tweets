{
 "cells": [
  {
   "cell_type": "code",
   "execution_count": null,
   "metadata": {},
   "outputs": [],
   "source": [
    "from sklearn.feature_extraction.text import CountVectorizer\n",
    "%run ../../1-Preprocessing/Preprocessing/Preprocess.ipynb import x_t, y1, y2, X_t, Y1, Y2, vocabulary"
   ]
  },
  {
   "cell_type": "code",
   "execution_count": null,
   "metadata": {},
   "outputs": [],
   "source": [
    "\n",
    "x = [' '.join(tweet) for tweet in x_t]\n",
    "X = [''.join(tweet) for tweet in X_t]\n",
    "\n",
    "vectorizer = CountVectorizer(token_pattern=r'\\S+')\n",
    "vectorizer.fit(x)\n",
    "x = vectorizer.transform(x)\n",
    "X = vectorizer.transform(X)"
   ]
  }
 ],
 "metadata": {
  "kernelspec": {
   "display_name": "Python 3.8.8 ('base')",
   "language": "python",
   "name": "python3"
  },
  "language_info": {
   "name": "python",
   "version": "3.8.8 (default, Apr 13 2021, 12:59:45) \n[Clang 10.0.0 ]"
  },
  "orig_nbformat": 4,
  "vscode": {
   "interpreter": {
    "hash": "40d3a090f54c6569ab1632332b64b2c03c39dcf918b08424e98f38b5ae0af88f"
   }
  }
 },
 "nbformat": 4,
 "nbformat_minor": 2
}
