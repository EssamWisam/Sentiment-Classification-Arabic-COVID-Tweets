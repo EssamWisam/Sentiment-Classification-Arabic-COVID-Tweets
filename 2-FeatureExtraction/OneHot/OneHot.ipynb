{
 "cells": [
  {
   "cell_type": "code",
   "execution_count": 37,
   "metadata": {},
   "outputs": [],
   "source": [
    "import numpy as np\n",
    "\n",
    "saved = False\n",
    "\n",
    "DIR = lambda x : f'../../Dataset/SavedFeatures/ONEHOT/{x}.npy'\n",
    "D_DIR = lambda x : f'../../Dataset/{x}.npy'\n",
    "if saved:\n",
    "    x = np.load(DIR('x'), allow_pickle=True)\n",
    "    X = np.load(DIR('X_test'), allow_pickle=True)\n",
    "    y1 = np.load(D_DIR('y1'), allow_pickle=True)\n",
    "    y2 = np.load(D_DIR('y2'), allow_pickle=True)\n",
    "    Y1 = np.load(D_DIR('Y1_test'), allow_pickle=True)\n",
    "    Y2 = np.load(D_DIR('Y2_test'), allow_pickle=True)\n",
    "    vocabulary = np.load(DIR('vocabulary'), allow_pickle=True).tolist()\n",
    "    Preprocessing = dict(np.load(DIR('Preprocessing'), allow_pickle=True).flatten()[0])\n",
    "    \n",
    "else:\n",
    "   %run ../../1-Preprocessing/Preprocessing/Preprocess.ipynb import x, y1, y2, X, Y1, Y2, vocabulary, Preprocessing\n",
    "   x = np.array([[vocabulary[word] for word in tweet] for tweet in x])\n",
    "   X = np.array([[vocabulary[word] for word in tweet] for tweet in X])\n",
    "\n",
    "   # now save\n",
    "   np.save(DIR('x'), x)\n",
    "   np.save(DIR('X_test'), X)\n",
    "   np.save(DIR('vocabulary'), vocabulary)\n",
    "   np.save(DIR('Preprocessing'), Preprocessing)\n",
    "\n",
    "Features = {\"method\": \"One-hot Vector\"}"
   ]
  }
 ],
 "metadata": {
  "kernelspec": {
   "display_name": "Python 3.8.8 ('base')",
   "language": "python",
   "name": "python3"
  },
  "language_info": {
   "codemirror_mode": {
    "name": "ipython",
    "version": 3
   },
   "file_extension": ".py",
   "mimetype": "text/x-python",
   "name": "python",
   "nbconvert_exporter": "python",
   "pygments_lexer": "ipython3",
   "version": "3.8.8 (default, Apr 13 2021, 12:59:45) \n[Clang 10.0.0 ]"
  },
  "orig_nbformat": 4,
  "vscode": {
   "interpreter": {
    "hash": "40d3a090f54c6569ab1632332b64b2c03c39dcf918b08424e98f38b5ae0af88f"
   }
  }
 },
 "nbformat": 4,
 "nbformat_minor": 2
}
