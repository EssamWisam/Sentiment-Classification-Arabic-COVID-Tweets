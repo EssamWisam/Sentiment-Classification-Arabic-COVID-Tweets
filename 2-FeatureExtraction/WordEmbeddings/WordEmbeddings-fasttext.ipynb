{
 "cells": [
  {
   "cell_type": "code",
   "execution_count": null,
   "metadata": {},
   "outputs": [],
   "source": [
    "import fasttext\n",
    "\n",
    "%run ../../1-Preprocessing/Preprocessing/Preprocess.ipynb import x, y1, y2, X, Y1, Y2, vocabulary, Preprocessing"
   ]
  },
  {
   "cell_type": "code",
   "execution_count": 4,
   "metadata": {},
   "outputs": [
    {
     "name": "stderr",
     "output_type": "stream",
     "text": [
      "Warning : `load_model` does not return WordVectorModel or SupervisedModel any more, but a `FastText` object which is very similar.\n"
     ]
    },
    {
     "name": "stdout",
     "output_type": "stream",
     "text": [
      "(6988, 30, 300)\n"
     ]
    }
   ],
   "source": [
    "Features = {\"method\": \"Word Embeddings Fasttext\"}\n",
    "\n",
    "TOTAL_EMBEDDING_DIM=300\n",
    "\n",
    "model = fasttext.load_model('../../2-FeatureExtraction/WordEmbeddings/fasttext/cc.ar.300.bin')\n",
    "\n",
    "fasttext_embeds_x = np.array([[model.get_word_vector(word) for i, word in enumerate(tweet)] for tweet in x])\n",
    "fasttext_embeds_X = np.array([[model.get_word_vector(word) for i, word in enumerate(tweet)] for tweet in X])\n",
    "\n",
    "print(fasttext_embeds_x.shape)"
   ]
  }
 ],
 "metadata": {
  "kernelspec": {
   "display_name": "Python 3",
   "language": "python",
   "name": "python3"
  },
  "language_info": {
   "codemirror_mode": {
    "name": "ipython",
    "version": 3
   },
   "file_extension": ".py",
   "mimetype": "text/x-python",
   "name": "python",
   "nbconvert_exporter": "python",
   "pygments_lexer": "ipython3",
   "version": "3.10.8"
  },
  "orig_nbformat": 4,
  "vscode": {
   "interpreter": {
    "hash": "369f2c481f4da34e4445cda3fffd2e751bd1c4d706f27375911949ba6bb62e1c"
   }
  }
 },
 "nbformat": 4,
 "nbformat_minor": 2
}
