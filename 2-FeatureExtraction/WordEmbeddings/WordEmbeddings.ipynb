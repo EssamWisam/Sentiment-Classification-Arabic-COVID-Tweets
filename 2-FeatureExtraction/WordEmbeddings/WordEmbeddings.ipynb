{
 "cells": [
  {
   "cell_type": "markdown",
   "metadata": {},
   "source": [
    "#### Perhaps consider https://github.com/bakrianoo/aravec or ArSphere"
   ]
  }
 ],
 "metadata": {
  "language_info": {
   "name": "python"
  },
  "orig_nbformat": 4
 },
 "nbformat": 4,
 "nbformat_minor": 2
}
