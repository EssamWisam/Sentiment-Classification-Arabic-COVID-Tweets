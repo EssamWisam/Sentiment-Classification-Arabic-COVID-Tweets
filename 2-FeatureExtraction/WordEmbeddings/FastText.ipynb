{
 "cells": [
  {
   "cell_type": "code",
   "execution_count": 21,
   "metadata": {},
   "outputs": [],
   "source": [
    "import fasttext\n",
    "import numpy as np\n",
    "from IPython.utils import io\n",
    "saved = False\n",
    "if not saved:\n",
    "    with io.capture_output() as captured: \n",
    "        %run ../../1-Preprocessing/Preprocessing/Preprocess.ipynb import x, y1, y2, X, Y1, Y2, vocabulary, Preprocessing"
   ]
  },
  {
   "cell_type": "code",
   "execution_count": 22,
   "metadata": {},
   "outputs": [
    {
     "name": "stderr",
     "output_type": "stream",
     "text": [
      "Read 0M words\n",
      "Number of words:  3840\n",
      "Number of labels: 0\n",
      "Progress: 100.0% words/sec/thread:   76453 lr:  0.000000 avg.loss:  1.552413 ETA:   0h 0m 0s 12.7% words/sec/thread:   76219 lr:  0.043647 avg.loss:  2.294579 ETA:   0h 0m33s\n"
     ]
    }
   ],
   "source": [
    "learning_rate = 0.05\n",
    "dim = 300\n",
    "Features = {\"method\": \"FastText\", \"FastText LR\": learning_rate, \"emb_dim\": dim}\n",
    "DIR = lambda x : f'../../Dataset/SavedFeatures/FASTTEXT/{x}.npy'\n",
    "D_DIR = lambda x : f'../../Dataset/{x}.npy'\n",
    "if not saved:\n",
    "\n",
    "    x_r = [' '.join(seq) for seq in x]\n",
    "    X_r = [' '.join(seq) for seq in X]\n",
    "\n",
    "    # Save the data to a file\n",
    "    with open('data.txt', 'w') as f:\n",
    "        f.write('\\n'.join(x_r+X_r))\n",
    "\n",
    "    # Train the model on the data\n",
    "    model = fasttext.train_unsupervised('data.txt', epoch=50, lr=learning_rate, dim=dim)\n",
    "\n",
    "    x = np.array([np.array([model.get_word_vector(word) for word in seq]) for seq in x])\n",
    "    X = np.array([np.array([model.get_word_vector(word) for word in seq]) for seq in X])\n",
    "    \n",
    "    # now save\n",
    "    np.save(DIR('x'), x)\n",
    "    np.save(DIR('X_test'), X)\n",
    "    np.save(DIR('vocabulary'), vocabulary)\n",
    "    np.save(DIR('Preprocessing'), Preprocessing)\n",
    "else:\n",
    "    x = np.load(DIR('x'), allow_pickle=True)\n",
    "    X = np.load(DIR('X_test'), allow_pickle=True)\n",
    "    y1 = np.load(D_DIR('y1'), allow_pickle=True)\n",
    "    y2 = np.load(D_DIR('y2'), allow_pickle=True)\n",
    "    Y1 = np.load(D_DIR('Y1_test'), allow_pickle=True)\n",
    "    Y2 = np.load(D_DIR('Y2_test'), allow_pickle=True)\n",
    "    vocabulary = np.load(DIR('vocabulary'), allow_pickle=True).tolist()\n",
    "    Preprocessing = dict(np.load(DIR('Preprocessing'), allow_pickle=True).flatten()[0])\n",
    "\n"
   ]
  }
 ],
 "metadata": {
  "kernelspec": {
   "display_name": "base",
   "language": "python",
   "name": "python3"
  },
  "language_info": {
   "codemirror_mode": {
    "name": "ipython",
    "version": 3
   },
   "file_extension": ".py",
   "mimetype": "text/x-python",
   "name": "python",
   "nbconvert_exporter": "python",
   "pygments_lexer": "ipython3",
   "version": "3.8.8"
  },
  "orig_nbformat": 4,
  "vscode": {
   "interpreter": {
    "hash": "40d3a090f54c6569ab1632332b64b2c03c39dcf918b08424e98f38b5ae0af88f"
   }
  }
 },
 "nbformat": 4,
 "nbformat_minor": 2
}
